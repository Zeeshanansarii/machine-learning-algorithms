{
 "cells": [
  {
   "cell_type": "markdown",
   "id": "4e870522",
   "metadata": {},
   "source": [
    "Machine Learning Project : Regression Analysis"
   ]
  },
  {
   "cell_type": "code",
   "execution_count": 40,
   "id": "09c289e2",
   "metadata": {},
   "outputs": [],
   "source": [
    "# Import time\n",
    "import time\n",
    "\n",
    "# Import Data Manipulation libraries\n",
    "import numpy as np\n",
    "import pandas as pd\n",
    "\n",
    "# Import Data Visualization libraries\n",
    "import matplotlib.pyplot as plt\n",
    "import seaborn as sns\n",
    "\n",
    "# Import filter warnings libraries\n",
    "import warnings\n",
    "warnings.filterwarnings('ignore')\n",
    "\n",
    "#Import logging libraries\n",
    "import logging\n",
    "logging.basicConfig(level = logging.INFO,\n",
    "                    format = '%(asctime)s - %(levelname)s - %(message)s',\n",
    "                    filemode = 'w',\n",
    "                    filename = 'model.log',\n",
    "                    force = True)\n",
    "\n",
    "# Import the scikit-learn libraries\n",
    "from sklearn.preprocessing import LabelEncoder, MinMaxScaler, RobustScaler\n",
    "from sklearn.model_selection import train_test_split, cross_val_score\n",
    "from sklearn.metrics import r2_score, mean_absolute_error, mean_squared_error"
   ]
  },
  {
   "cell_type": "code",
   "execution_count": 41,
   "id": "eea86afa",
   "metadata": {},
   "outputs": [],
   "source": [
    "# Step 2: Import dataset\n",
    "\n",
    "data = pd.DataFrame({\n",
    "    'feature1': np.random.randint(0, 10000, 1000),\n",
    "    'feature2': np.random.randint(0, 30, 1000),\n",
    "    'feature3': np.random.randint(20, 10000, 1000),\n",
    "    'target': np.random.randint(0, 100, 1000)\n",
    "})"
   ]
  },
  {
   "cell_type": "code",
   "execution_count": 42,
   "id": "780f3f49",
   "metadata": {},
   "outputs": [
    {
     "name": "stdout",
     "output_type": "stream",
     "text": [
      "<class 'pandas.core.frame.DataFrame'>\n",
      "RangeIndex: 1000 entries, 0 to 999\n",
      "Data columns (total 4 columns):\n",
      " #   Column    Non-Null Count  Dtype\n",
      "---  ------    --------------  -----\n",
      " 0   feature1  1000 non-null   int64\n",
      " 1   feature2  1000 non-null   int64\n",
      " 2   feature3  1000 non-null   int64\n",
      " 3   target    1000 non-null   int64\n",
      "dtypes: int64(4)\n",
      "memory usage: 31.4 KB\n"
     ]
    }
   ],
   "source": [
    "# Steo 3: Checking dataset info\n",
    "data.info()"
   ]
  },
  {
   "cell_type": "code",
   "execution_count": 43,
   "id": "c5fafe76",
   "metadata": {},
   "outputs": [
    {
     "data": {
      "image/png": "[encoded data removed]",
      "text/plain": [
       "<Figure size 640x480 with 1 Axes>"
      ]
     },
     "metadata": {},
     "output_type": "display_data"
    }
   ],
   "source": [
    "# Step 4: Checking null values in dataset\n",
    "data.isnull().sum().plot(kind = 'bar')\n",
    "plt.show()\n"
   ]
  },
  {
   "cell_type": "code",
   "execution_count": 44,
   "id": "d9e3b79f",
   "metadata": {},
   "outputs": [
    {
     "data": {
      "text/html": [
       "<div>\n",
       "<style scoped>\n",
       "    .dataframe tbody tr th:only-of-type {\n",
       "        vertical-align: middle;\n",
       "    }\n",
       "\n",
       "    .dataframe tbody tr th {\n",
       "        vertical-align: top;\n",
       "    }\n",
       "\n",
       "    .dataframe thead th {\n",
       "        text-align: right;\n",
       "    }\n",
       "</style>\n",
       "<table border=\"1\" class=\"dataframe\">\n",
       "  <thead>\n",
       "    <tr style=\"text-align: right;\">\n",
       "      <th></th>\n",
       "      <th>feature</th>\n",
       "      <th>mean</th>\n",
       "      <th>median</th>\n",
       "      <th>min</th>\n",
       "      <th>max</th>\n",
       "      <th>range</th>\n",
       "      <th>Q1</th>\n",
       "      <th>Q3</th>\n",
       "      <th>IQR</th>\n",
       "      <th>Skewness</th>\n",
       "      <th>Kurtosis</th>\n",
       "    </tr>\n",
       "  </thead>\n",
       "  <tbody>\n",
       "    <tr>\n",
       "      <th>0</th>\n",
       "      <td>feature1</td>\n",
       "      <td>5011.483</td>\n",
       "      <td>5055.0</td>\n",
       "      <td>2</td>\n",
       "      <td>9971</td>\n",
       "      <td>9969</td>\n",
       "      <td>2426.25</td>\n",
       "      <td>7574.75</td>\n",
       "      <td>5148.5</td>\n",
       "      <td>-0.023845</td>\n",
       "      <td>-1.212333</td>\n",
       "    </tr>\n",
       "    <tr>\n",
       "      <th>1</th>\n",
       "      <td>feature2</td>\n",
       "      <td>14.369</td>\n",
       "      <td>15.0</td>\n",
       "      <td>0</td>\n",
       "      <td>29</td>\n",
       "      <td>29</td>\n",
       "      <td>7.00</td>\n",
       "      <td>22.00</td>\n",
       "      <td>15.0</td>\n",
       "      <td>0.001666</td>\n",
       "      <td>-1.248622</td>\n",
       "    </tr>\n",
       "    <tr>\n",
       "      <th>2</th>\n",
       "      <td>feature3</td>\n",
       "      <td>5029.785</td>\n",
       "      <td>4980.0</td>\n",
       "      <td>51</td>\n",
       "      <td>9970</td>\n",
       "      <td>9919</td>\n",
       "      <td>2544.00</td>\n",
       "      <td>7461.50</td>\n",
       "      <td>4917.5</td>\n",
       "      <td>-0.020246</td>\n",
       "      <td>-1.203645</td>\n",
       "    </tr>\n",
       "    <tr>\n",
       "      <th>3</th>\n",
       "      <td>target</td>\n",
       "      <td>49.905</td>\n",
       "      <td>51.0</td>\n",
       "      <td>0</td>\n",
       "      <td>99</td>\n",
       "      <td>99</td>\n",
       "      <td>26.00</td>\n",
       "      <td>75.00</td>\n",
       "      <td>49.0</td>\n",
       "      <td>-0.032236</td>\n",
       "      <td>-1.183311</td>\n",
       "    </tr>\n",
       "  </tbody>\n",
       "</table>\n",
       "</div>"
      ],
      "text/plain": [
       "    feature      mean  median  min   max  range       Q1       Q3     IQR  \\\n",
       "0  feature1  5011.483  5055.0    2  9971   9969  2426.25  7574.75  5148.5   \n",
       "1  feature2    14.369    15.0    0    29     29     7.00    22.00    15.0   \n",
       "2  feature3  5029.785  4980.0   51  9970   9919  2544.00  7461.50  4917.5   \n",
       "3    target    49.905    51.0    0    99     99    26.00    75.00    49.0   \n",
       "\n",
       "   Skewness  Kurtosis  \n",
       "0 -0.023845 -1.212333  \n",
       "1  0.001666 -1.248622  \n",
       "2 -0.020246 -1.203645  \n",
       "3 -0.032236 -1.183311  "
      ]
     },
     "execution_count": 44,
     "metadata": {},
     "output_type": "execute_result"
    }
   ],
   "source": [
    "# Step 4: EDA\n",
    "\n",
    "from collections import OrderedDict\n",
    "\n",
    "stats = []\n",
    "\n",
    "for i in data.columns:\n",
    "    numerical_stats = OrderedDict({\n",
    "        'feature': i,\n",
    "        'mean': data[i].mean(),\n",
    "        'median': data[i].median(),\n",
    "        'min': data[i].min(),\n",
    "        'max': data[i].max(),\n",
    "        'range': data[i].max() - data[i].min(),\n",
    "        'Q1': data[i].quantile(0.25),\n",
    "        'Q3': data[i].quantile(0.75),\n",
    "        'IQR': data[i].quantile(0.75) - data[i].quantile(0.25),\n",
    "        'Skewness': data[i].skew(),\n",
    "        'Kurtosis': data[i].kurt()\n",
    "        })\n",
    "    stats.append(numerical_stats)\n",
    "    report = pd.DataFrame(stats)\n",
    "report"
   ]
  },
  {
   "cell_type": "code",
   "execution_count": 45,
   "id": "4aa15062",
   "metadata": {},
   "outputs": [
    {
     "data": {
      "image/png": "[encoded data removed]",
      "text/plain": [
       "<Figure size 640x480 with 1 Axes>"
      ]
     },
     "metadata": {},
     "output_type": "display_data"
    }
   ],
   "source": [
    "# Checking the correlation of feature w.r.t target column\n",
    "\n",
    "data.corr()['target'].plot(kind = 'barh')\n",
    "plt.axvline(0, linestyle = '--', color = 'maroon')\n",
    "plt.title('Correlation plot showing positive and negative correlation')\n",
    "plt.show()"
   ]
  },
  {
   "cell_type": "code",
   "execution_count": 47,
   "id": "5b9c0e3f",
   "metadata": {},
   "outputs": [],
   "source": [
    "start = time.time()"
   ]
  },
  {
   "cell_type": "code",
   "execution_count": 48,
   "id": "cbf887a0",
   "metadata": {},
   "outputs": [],
   "source": [
    "end = time.time()"
   ]
  },
  {
   "cell_type": "code",
   "execution_count": 54,
   "id": "cbc521ac",
   "metadata": {},
   "outputs": [
    {
     "data": {
      "text/plain": [
       "9.883334159851074"
      ]
     },
     "execution_count": 54,
     "metadata": {},
     "output_type": "execute_result"
    }
   ],
   "source": [
    "time = end - start\n",
    "logging.info(f'Time taken : {time} seconds')\n",
    "time"
   ]
  },
  {
   "cell_type": "code",
   "execution_count": null,
   "id": "d8bab110",
   "metadata": {},
   "outputs": [],
   "source": []
  }
 ],
 "metadata": {
  "kernelspec": {
   "display_name": "base",
   "language": "python",
   "name": "python3"
  },
  "language_info": {
   "codemirror_mode": {
    "name": "ipython",
    "version": 3
   },
   "file_extension": ".py",
   "mimetype": "text/x-python",
   "name": "python",
   "nbconvert_exporter": "python",
   "pygments_lexer": "ipython3",
   "version": "3.12.7"
  }
 },
 "nbformat": 4,
 "nbformat_minor": 5
}
